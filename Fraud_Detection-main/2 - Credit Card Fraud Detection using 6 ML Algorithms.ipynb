{
 "cells": [
  {
   "cell_type": "markdown",
   "metadata": {},
   "source": [
    "## Credit Card Fraud Detection using 6 ML Algorithms \n",
    "***\n",
    "***\n",
    "\n",
    "#### The Credit Card Dataset used in this model contains transactions made in two days by European credit cards holders in September 2013. In total, there are 492 frauds out of 284,807 transactions.\n",
    "\n",
    "- The data consists of 28 variables (V1, …, V28), an \"Amount\" field, a \"Time\" field and a \"Class\" field. \n",
    "\n",
    "- The feature **`Amount`** is the transaction amount\n",
    "\n",
    "- The **`Time`** field contains the seconds elapsed between each transaction and the first transaction in the dataset.\n",
    "\n",
    "- The **`Class`** field takes values 0 (when transaction is not fraudulent) and value 1 (when transaction is fraudulent). \n",
    "\n",
    "- The representation and meaning of the **`28 Variables`** are anonymous for privacy reasons [Features V1, V2, … V28 are the principal components obtained with PCA].\n",
    "\n",
    "\n",
    "***\n",
    "***\n",
    "In most fraud detection machine learning models, their are certain features which are paramount for the model efficient. These features can be used for example-dependant and cost-senstive learning. They include:\n",
    "\n",
    "<img src=\"fd1.png\" width=600 height=600 />"
   ]
  },
  {
   "cell_type": "markdown",
   "metadata": {},
   "source": [
    "#### Import Library"
   ]
  },
  {
   "cell_type": "code",
   "execution_count": 1,
   "metadata": {},
   "outputs": [],
   "source": [
    "import pandas as pd                                      # data processing\n",
    "import numpy as np                                       # working with arrays\n",
    "import matplotlib.pyplot as plt                          # visualization\n",
    "from termcolor import colored as cl                      # text customization\n",
    "import itertools                                         # advanced tools\n",
    "\n",
    "from sklearn.tree import DecisionTreeClassifier          # Decision tree algorithm\n",
    "from sklearn.neighbors import KNeighborsClassifier       # KNN algorithm\n",
    "from sklearn.linear_model import LogisticRegression      # Logistic regression algorithm\n",
    "from sklearn.svm import SVC                              # SVM algorithm\n",
    "from sklearn.ensemble import RandomForestClassifier      # Random forest tree algorithm\n",
    "from xgboost import XGBClassifier                        # XGBoost algorithm\n",
    "\n",
    "from sklearn.preprocessing import StandardScaler         # data normalization\n",
    "from sklearn.model_selection import train_test_split     # data split\n",
    "\n",
    "from sklearn.metrics import accuracy_score               # evaluation metric\n",
    "from sklearn.metrics import precision_score              # evaluation metric\n",
    "from sklearn.metrics import recall_score                 # evaluation metric\n",
    "from sklearn.metrics import f1_score                     # evaluation metric\n",
    "from sklearn.metrics import confusion_matrix             # evaluation metric\n",
    "from sklearn.metrics import classification_report        # evaluation metric\n",
    "\n",
    "import warnings\n",
    "warnings.filterwarnings(\"ignore\")"
   ]
  },
  {
   "cell_type": "markdown",
   "metadata": {},
   "source": [
    "#### Import Data"
   ]
  },
  {
   "cell_type": "code",
   "execution_count": 2,
   "metadata": {},
   "outputs": [
    {
     "name": "stdout",
     "output_type": "stream",
     "text": [
      "         V1        V2        V3        V4        V5        V6        V7  \\\n",
      "0 -1.359807 -0.072781  2.536347  1.378155 -0.338321  0.462388  0.239599   \n",
      "1  1.191857  0.266151  0.166480  0.448154  0.060018 -0.082361 -0.078803   \n",
      "2 -1.358354 -1.340163  1.773209  0.379780 -0.503198  1.800499  0.791461   \n",
      "3 -0.966272 -0.185226  1.792993 -0.863291 -0.010309  1.247203  0.237609   \n",
      "4 -1.158233  0.877737  1.548718  0.403034 -0.407193  0.095921  0.592941   \n",
      "\n",
      "         V8        V9       V10  ...       V21       V22       V23       V24  \\\n",
      "0  0.098698  0.363787  0.090794  ... -0.018307  0.277838 -0.110474  0.066928   \n",
      "1  0.085102 -0.255425 -0.166974  ... -0.225775 -0.638672  0.101288 -0.339846   \n",
      "2  0.247676 -1.514654  0.207643  ...  0.247998  0.771679  0.909412 -0.689281   \n",
      "3  0.377436 -1.387024 -0.054952  ... -0.108300  0.005274 -0.190321 -1.175575   \n",
      "4 -0.270533  0.817739  0.753074  ... -0.009431  0.798278 -0.137458  0.141267   \n",
      "\n",
      "        V25       V26       V27       V28  Amount  Class  \n",
      "0  0.128539 -0.189115  0.133558 -0.021053  149.62      0  \n",
      "1  0.167170  0.125895 -0.008983  0.014724    2.69      0  \n",
      "2 -0.327642 -0.139097 -0.055353 -0.059752  378.66      0  \n",
      "3  0.647376 -0.221929  0.062723  0.061458  123.50      0  \n",
      "4 -0.206010  0.502292  0.219422  0.215153   69.99      0  \n",
      "\n",
      "[5 rows x 30 columns]\n"
     ]
    }
   ],
   "source": [
    "df = pd.read_csv('creditcard.csv')\n",
    "\n",
    "df.drop('Time', axis = 1, inplace = True)\n",
    "\n",
    "print(df.head())"
   ]
  },
  {
   "cell_type": "markdown",
   "metadata": {},
   "source": [
    "#### Data Exploration"
   ]
  },
  {
   "cell_type": "code",
   "execution_count": 3,
   "metadata": {},
   "outputs": [
    {
     "name": "stdout",
     "output_type": "stream",
     "text": [
      "\u001b[1mCASE COUNT\u001b[0m\n",
      "\u001b[1m--------------------------------------------\u001b[0m\n",
      "\u001b[1mTotal number of cases are 284807\u001b[0m\n",
      "\u001b[1mNumber of Non-fraud cases are 284315\u001b[0m\n",
      "\u001b[1mNumber of Non-fraud cases are 492\u001b[0m\n",
      "\u001b[1mPercentage of fraud cases is 0.17\u001b[0m\n",
      "\u001b[1m--------------------------------------------\u001b[0m\n"
     ]
    }
   ],
   "source": [
    "cases = len(df)\n",
    "nonfraud_count = len(df[df.Class == 0])\n",
    "fraud_count = len(df[df.Class == 1])\n",
    "fraud_percentage = round(fraud_count/nonfraud_count*100, 2)\n",
    "\n",
    "\n",
    "print(cl('CASE COUNT', attrs = ['bold']))\n",
    "print(cl('--------------------------------------------', attrs = ['bold']))\n",
    "print(cl('Total number of cases are {}'.format(cases), attrs = ['bold']))\n",
    "print(cl('Number of Non-fraud cases are {}'.format(nonfraud_count), attrs = ['bold']))\n",
    "print(cl('Number of Non-fraud cases are {}'.format(fraud_count), attrs = ['bold']))\n",
    "print(cl('Percentage of fraud cases is {}'.format(fraud_percentage), attrs = ['bold']))\n",
    "print(cl('--------------------------------------------', attrs = ['bold']))"
   ]
  },
  {
   "cell_type": "code",
   "execution_count": 4,
   "metadata": {},
   "outputs": [
    {
     "name": "stdout",
     "output_type": "stream",
     "text": [
      "\u001b[1mCASE AMOUNT STATISTICS\u001b[0m\n",
      "\u001b[1m--------------------------------------------\u001b[0m\n",
      "\u001b[1mNON-FRAUD CASE AMOUNT STATS\u001b[0m\n",
      "count    284315.000000\n",
      "mean         88.291022\n",
      "std         250.105092\n",
      "min           0.000000\n",
      "25%           5.650000\n",
      "50%          22.000000\n",
      "75%          77.050000\n",
      "max       25691.160000\n",
      "Name: Amount, dtype: float64\n",
      "\u001b[1m--------------------------------------------\u001b[0m\n",
      "\u001b[1mFRAUD CASE AMOUNT STATS\u001b[0m\n",
      "count     492.000000\n",
      "mean      122.211321\n",
      "std       256.683288\n",
      "min         0.000000\n",
      "25%         1.000000\n",
      "50%         9.250000\n",
      "75%       105.890000\n",
      "max      2125.870000\n",
      "Name: Amount, dtype: float64\n",
      "\u001b[1m--------------------------------------------\u001b[0m\n"
     ]
    }
   ],
   "source": [
    "nonfraud_cases = df[df.Class == 0]\n",
    "fraud_cases = df[df.Class == 1]\n",
    "\n",
    "\n",
    "print(cl('CASE AMOUNT STATISTICS', attrs = ['bold']))\n",
    "print(cl('--------------------------------------------', attrs = ['bold']))\n",
    "print(cl('NON-FRAUD CASE AMOUNT STATS', attrs = ['bold']))\n",
    "print(nonfraud_cases.Amount.describe())\n",
    "print(cl('--------------------------------------------', attrs = ['bold']))\n",
    "print(cl('FRAUD CASE AMOUNT STATS', attrs = ['bold']))\n",
    "print(fraud_cases.Amount.describe())\n",
    "print(cl('--------------------------------------------', attrs = ['bold']))"
   ]
  },
  {
   "cell_type": "markdown",
   "metadata": {},
   "source": [
    "#### Data split into Train and Test"
   ]
  },
  {
   "cell_type": "code",
   "execution_count": 5,
   "metadata": {},
   "outputs": [],
   "source": [
    "X = df.drop('Class', axis = 1).values\n",
    "y = df['Class'].values\n",
    "\n",
    "X_train, X_test, y_train, y_test = train_test_split(X, y, test_size = 0.2, random_state = 0)"
   ]
  },
  {
   "cell_type": "markdown",
   "metadata": {},
   "source": [
    "### Modeling\n",
    "\n",
    "#### 1. Logistic Regression\n"
   ]
  },
  {
   "cell_type": "code",
   "execution_count": 6,
   "metadata": {},
   "outputs": [],
   "source": [
    "lr = LogisticRegression()\n",
    "lr.fit(X_train, y_train)\n",
    "lr_yhat = lr.predict(X_test)"
   ]
  },
  {
   "cell_type": "markdown",
   "metadata": {},
   "source": [
    "#### 2. K-Nearest Neighbors"
   ]
  },
  {
   "cell_type": "code",
   "execution_count": 7,
   "metadata": {},
   "outputs": [],
   "source": [
    "n = 5\n",
    "knn = KNeighborsClassifier(n_neighbors = n)\n",
    "knn.fit(X_train, y_train)\n",
    "knn_yhat = knn.predict(X_test)"
   ]
  },
  {
   "cell_type": "markdown",
   "metadata": {},
   "source": [
    "#### 3. Decision Tree"
   ]
  },
  {
   "cell_type": "code",
   "execution_count": 8,
   "metadata": {},
   "outputs": [],
   "source": [
    "tree_model = DecisionTreeClassifier(max_depth = 4, criterion = 'entropy')\n",
    "tree_model.fit(X_train, y_train)\n",
    "tree_yhat = tree_model.predict(X_test)"
   ]
  },
  {
   "cell_type": "markdown",
   "metadata": {},
   "source": [
    "#### 4. SVM \n"
   ]
  },
  {
   "cell_type": "code",
   "execution_count": 9,
   "metadata": {},
   "outputs": [],
   "source": [
    "svm = SVC()\n",
    "svm.fit(X_train, y_train)\n",
    "svm_yhat = svm.predict(X_test)"
   ]
  },
  {
   "cell_type": "markdown",
   "metadata": {},
   "source": [
    "#### 5. Random Forest Tree\n"
   ]
  },
  {
   "cell_type": "code",
   "execution_count": 10,
   "metadata": {},
   "outputs": [],
   "source": [
    "rf = RandomForestClassifier(max_depth = 4)\n",
    "rf.fit(X_train, y_train)\n",
    "rf_yhat = rf.predict(X_test)"
   ]
  },
  {
   "cell_type": "markdown",
   "metadata": {},
   "source": [
    "#### 6. XGBoost\n"
   ]
  },
  {
   "cell_type": "code",
   "execution_count": 11,
   "metadata": {},
   "outputs": [],
   "source": [
    "xgb = XGBClassifier(max_depth = 4)\n",
    "xgb.fit(X_train, y_train)\n",
    "xgb_yhat = xgb.predict(X_test)"
   ]
  },
  {
   "cell_type": "markdown",
   "metadata": {},
   "source": [
    "### Evaluation Metrics\n",
    "\n",
    "#### 1. Accuracy score"
   ]
  },
  {
   "cell_type": "code",
   "execution_count": 14,
   "metadata": {},
   "outputs": [
    {
     "name": "stdout",
     "output_type": "stream",
     "text": [
      "\u001b[1mACCURACY SCORE\u001b[0m\n",
      "\n",
      "\u001b[1m------------------------------------------------------------------------\u001b[0m\n",
      "\u001b[1mAccuracy score of the Logistic Regression model is 99.91%\u001b[0m\n",
      "\u001b[1m------------------------------------------------------------------------\u001b[0m\n",
      "\u001b[1mAccuracy score of the KNN model is 99.93%\u001b[0m\n",
      "\u001b[1m------------------------------------------------------------------------\u001b[0m\n",
      "\u001b[1m\u001b[31mAccuracy score of the Decision Tree model is 99.94%\u001b[0m\n",
      "\u001b[1m------------------------------------------------------------------------\u001b[0m\n",
      "\u001b[1mAccuracy score of the SVM model is 99.87%\u001b[0m\n",
      "\u001b[1m------------------------------------------------------------------------\u001b[0m\n",
      "\u001b[1mAccuracy score of the Random Forest Tree model is 99.93%\u001b[0m\n",
      "\u001b[1m------------------------------------------------------------------------\u001b[0m\n",
      "\u001b[1m\u001b[32mAccuracy score of the XGBoost model is 99.95%\u001b[0m\n",
      "\u001b[1m------------------------------------------------------------------------\u001b[0m\n"
     ]
    }
   ],
   "source": [
    "print(cl('ACCURACY SCORE', attrs = ['bold']))\n",
    "print()\n",
    "\n",
    "print(cl('------------------------------------------------------------------------', attrs = ['bold']))\n",
    "lr_acc = accuracy_score(y_test, lr_yhat) * 100\n",
    "print(cl('Accuracy score of the Logistic Regression model is {:.2f}%'.format(lr_acc), attrs = ['bold']))\n",
    "\n",
    "print(cl('------------------------------------------------------------------------', attrs = ['bold']))\n",
    "knn_acc = accuracy_score(y_test, knn_yhat) * 100\n",
    "print(cl('Accuracy score of the KNN model is {:.2f}%'.format(knn_acc), attrs = ['bold']))\n",
    "\n",
    "print(cl('------------------------------------------------------------------------', attrs = ['bold']))\n",
    "tree_acc = accuracy_score(y_test, tree_yhat) * 100\n",
    "print(cl('Accuracy score of the Decision Tree model is {:.2f}%'.format(tree_acc), attrs = ['bold'],  color = 'red'))\n",
    "\n",
    "print(cl('------------------------------------------------------------------------', attrs = ['bold']))\n",
    "svm_acc = accuracy_score(y_test, svm_yhat) * 100\n",
    "print(cl('Accuracy score of the SVM model is {:.2f}%'.format(svm_acc), attrs = ['bold']))\n",
    "\n",
    "print(cl('------------------------------------------------------------------------', attrs = ['bold']))\n",
    "rf_acc = accuracy_score(y_test, rf_yhat) * 100\n",
    "print(cl('Accuracy score of the Random Forest model is {:.2f}%'.format(rf_acc), attrs = ['bold']))\n",
    "\n",
    "print(cl('------------------------------------------------------------------------', attrs = ['bold']))\n",
    "xgb_acc = accuracy_score(y_test, xgb_yhat) * 100\n",
    "print(cl('Accuracy score of the XGBoost model is {:.2f}%'.format(xgb_acc), attrs = ['bold'], color = 'green'))\n",
    "\n",
    "print(cl('------------------------------------------------------------------------', attrs = ['bold']))"
   ]
  },
  {
   "cell_type": "markdown",
   "metadata": {},
   "source": [
    "#### 2. Precision"
   ]
  },
  {
   "cell_type": "code",
   "execution_count": 16,
   "metadata": {},
   "outputs": [
    {
     "name": "stdout",
     "output_type": "stream",
     "text": [
      "\u001b[1mPrecision SCORE\u001b[0m\n",
      "\n",
      "\u001b[1m------------------------------------------------------------------------\u001b[0m\n",
      "\u001b[1mPrecision score of the Logistic Regression model is 86.11%\u001b[0m\n",
      "\u001b[1m------------------------------------------------------------------------\u001b[0m\n",
      "\u001b[1m\u001b[31mPrecision score of the KNN model is 90.91%\u001b[0m\n",
      "\u001b[1m------------------------------------------------------------------------\u001b[0m\n",
      "\u001b[1mPrecision score of the Decision Tree model is 86.52%\u001b[0m\n",
      "\u001b[1m------------------------------------------------------------------------\u001b[0m\n",
      "\u001b[1mPrecision score of the SVM model is 83.72%\u001b[0m\n",
      "\u001b[1m------------------------------------------------------------------------\u001b[0m\n",
      "\u001b[1m\u001b[31mPrecision score of the Random Forest Tree model is 90.91%\u001b[0m\n",
      "\u001b[1m------------------------------------------------------------------------\u001b[0m\n",
      "\u001b[1m\u001b[32mPrecision score of the XGBoost model is 91.86%\u001b[0m\n",
      "\u001b[1m------------------------------------------------------------------------\u001b[0m\n"
     ]
    }
   ],
   "source": [
    "print(cl('Precision SCORE', attrs = ['bold']))\n",
    "print()\n",
    "\n",
    "print(cl('------------------------------------------------------------------------', attrs = ['bold']))\n",
    "lr_prec = precision_score(y_test, lr_yhat) * 100\n",
    "print(cl('Precision score of the Logistic Regression model is {:.2f}%'.format(lr_prec), attrs = ['bold']))\n",
    "\n",
    "print(cl('------------------------------------------------------------------------', attrs = ['bold']))\n",
    "knn_prec = precision_score(y_test, knn_yhat) * 100\n",
    "print(cl('Precision score of the KNN model is {:.2f}%'.format(knn_prec), attrs = ['bold'], color = 'red'))\n",
    "\n",
    "print(cl('------------------------------------------------------------------------', attrs = ['bold']))\n",
    "tree_prec = precision_score(y_test, tree_yhat) * 100\n",
    "print(cl('Precision score of the Decision Tree model is {:.2f}%'.format(tree_prec), attrs = ['bold']))\n",
    "\n",
    "print(cl('------------------------------------------------------------------------', attrs = ['bold']))\n",
    "svm_prec = precision_score(y_test, svm_yhat) * 100\n",
    "print(cl('Precision score of the SVM model is {:.2f}%'.format(svm_prec), attrs = ['bold']))\n",
    "\n",
    "print(cl('------------------------------------------------------------------------', attrs = ['bold']))\n",
    "rf_prec = precision_score(y_test, rf_yhat) * 100\n",
    "print(cl('Precision score of the Random Forest model is {:.2f}%'.format(rf_prec), attrs = ['bold'], color = 'red'))\n",
    "\n",
    "print(cl('------------------------------------------------------------------------', attrs = ['bold']))\n",
    "xgb_prec = precision_score(y_test, xgb_yhat) * 100\n",
    "print(cl('Precision score of the XGBoost model is {:.2f}%'.format(xgb_prec), attrs = ['bold'], color = 'green'))\n",
    "\n",
    "print(cl('------------------------------------------------------------------------', attrs = ['bold']))"
   ]
  },
  {
   "cell_type": "markdown",
   "metadata": {},
   "source": [
    "#### 3. Recall"
   ]
  },
  {
   "cell_type": "code",
   "execution_count": 18,
   "metadata": {},
   "outputs": [
    {
     "name": "stdout",
     "output_type": "stream",
     "text": [
      "\u001b[1mRecall SCORE\u001b[0m\n",
      "\n",
      "\u001b[1m------------------------------------------------------------------------\u001b[0m\n",
      "\u001b[1mRecall score of the Logistic Regression model is 61.39%\u001b[0m\n",
      "\u001b[1m------------------------------------------------------------------------\u001b[0m\n",
      "\u001b[1mRecall score of the KNN model is 69.31%\u001b[0m\n",
      "\u001b[1m------------------------------------------------------------------------\u001b[0m\n",
      "\u001b[1m\u001b[31mRecall score of the Decision Tree model is 76.24%\u001b[0m\n",
      "\u001b[1m------------------------------------------------------------------------\u001b[0m\n",
      "\u001b[1mRecall score of the SVM model is 35.64%\u001b[0m\n",
      "\u001b[1m------------------------------------------------------------------------\u001b[0m\n",
      "\u001b[1mRecall score of the Random Forest Tree model is 69.31%\u001b[0m\n",
      "\u001b[1m------------------------------------------------------------------------\u001b[0m\n",
      "\u001b[1m\u001b[32mRecall score of the XGBoost model is 78.22%\u001b[0m\n",
      "\u001b[1m------------------------------------------------------------------------\u001b[0m\n"
     ]
    }
   ],
   "source": [
    "print(cl('Recall SCORE', attrs = ['bold']))\n",
    "print()\n",
    "\n",
    "print(cl('------------------------------------------------------------------------', attrs = ['bold']))\n",
    "lr_rec = recall_score(y_test, lr_yhat) * 100\n",
    "print(cl('Recall score of the Logistic Regression model is {:.2f}%'.format(lr_rec), attrs = ['bold']))\n",
    "\n",
    "print(cl('------------------------------------------------------------------------', attrs = ['bold']))\n",
    "knn_rec = recall_score(y_test, knn_yhat) * 100\n",
    "print(cl('Recall score of the KNN model is {:.2f}%'.format(knn_rec), attrs = ['bold']))\n",
    "\n",
    "print(cl('------------------------------------------------------------------------', attrs = ['bold']))\n",
    "tree_rec = recall_score(y_test, tree_yhat) * 100\n",
    "print(cl('Recall score of the Decision Tree model is {:.2f}%'.format(tree_rec), attrs = ['bold'], color = 'red'))\n",
    "\n",
    "print(cl('------------------------------------------------------------------------', attrs = ['bold']))\n",
    "svm_rec = recall_score(y_test, svm_yhat) * 100\n",
    "print(cl('Recall score of the SVM model is {:.2f}%'.format(svm_rec), attrs = ['bold']))\n",
    "\n",
    "print(cl('------------------------------------------------------------------------', attrs = ['bold']))\n",
    "rf_rec = recall_score(y_test, rf_yhat) * 100\n",
    "print(cl('Recall score of the Random Forest model is {:.2f}%'.format(rf_rec), attrs = ['bold']))\n",
    "\n",
    "print(cl('------------------------------------------------------------------------', attrs = ['bold']))\n",
    "xgb_rec = recall_score(y_test, xgb_yhat) * 100\n",
    "print(cl('Recall score of the XGBoost model is {:.2f}%'.format(xgb_rec), attrs = ['bold'], color = 'green'))\n",
    "\n",
    "print(cl('------------------------------------------------------------------------', attrs = ['bold']))"
   ]
  },
  {
   "cell_type": "markdown",
   "metadata": {},
   "source": [
    "#### 4. F1 score\n"
   ]
  },
  {
   "cell_type": "code",
   "execution_count": 21,
   "metadata": {},
   "outputs": [
    {
     "name": "stdout",
     "output_type": "stream",
     "text": [
      "\u001b[1mF1 SCORE\u001b[0m\n",
      "\n",
      "\u001b[1m------------------------------------------------------------------------\u001b[0m\n",
      "\u001b[1mF1 score of the Logistic Regression model is 71.68%\u001b[0m\n",
      "\u001b[1m------------------------------------------------------------------------\u001b[0m\n",
      "\u001b[1mF1 score of the KNN model is 78.65%\u001b[0m\n",
      "\u001b[1m------------------------------------------------------------------------\u001b[0m\n",
      "\u001b[1m\u001b[31mF1 score of the Decision Tree model is 81.05%\u001b[0m\n",
      "\u001b[1m------------------------------------------------------------------------\u001b[0m\n",
      "\u001b[1mF1 score of the SVM model is 50.00%\u001b[0m\n",
      "\u001b[1m------------------------------------------------------------------------\u001b[0m\n",
      "\u001b[1mF1 score of the Random Forest Tree model is 78.65%\u001b[0m\n",
      "\u001b[1m------------------------------------------------------------------------\u001b[0m\n",
      "\u001b[1m\u001b[32mF1 score of the XGBoost model is 84.49%\u001b[0m\n",
      "\u001b[1m------------------------------------------------------------------------\u001b[0m\n"
     ]
    }
   ],
   "source": [
    "print(cl('F1 SCORE', attrs = ['bold']))\n",
    "print()\n",
    "\n",
    "print(cl('------------------------------------------------------------------------', attrs = ['bold']))\n",
    "lr_f1 = f1_score(y_test, lr_yhat) * 100\n",
    "print(cl('F1 score of the Logistic Regression model is {:.2f}%'.format(lr_f1), attrs = ['bold']))\n",
    "\n",
    "print(cl('------------------------------------------------------------------------', attrs = ['bold']))\n",
    "knn_f1 = f1_score(y_test, knn_yhat) * 100\n",
    "print(cl('F1 score of the KNN model is {:.2f}%'.format(knn_f1), attrs = ['bold']))\n",
    "\n",
    "print(cl('------------------------------------------------------------------------', attrs = ['bold']))\n",
    "tree_f1 = f1_score(y_test, tree_yhat) * 100\n",
    "print(cl('F1 score of the Decision Tree model is {:.2f}%'.format(tree_f1), attrs = ['bold'], color = 'red'))\n",
    "\n",
    "print(cl('------------------------------------------------------------------------', attrs = ['bold']))\n",
    "svm_f1 = f1_score(y_test, svm_yhat) * 100\n",
    "print(cl('F1 score of the SVM model is {:.2f}%'.format(svm_f1), attrs = ['bold']))\n",
    "\n",
    "print(cl('------------------------------------------------------------------------', attrs = ['bold']))\n",
    "rf_f1 = f1_score(y_test, rf_yhat) * 100\n",
    "print(cl('F1 score of the Random Forest model is {:.2f}%'.format(rf_f1), attrs = ['bold']))\n",
    "\n",
    "print(cl('------------------------------------------------------------------------', attrs = ['bold']))\n",
    "xgb_f1 = f1_score(y_test, xgb_yhat) * 100\n",
    "print(cl('F1 score of the XGBoost model is {:.2f}%'.format(xgb_f1), attrs = ['bold'], color = 'green'))\n",
    "\n",
    "print(cl('------------------------------------------------------------------------', attrs = ['bold']))"
   ]
  },
  {
   "cell_type": "code",
   "execution_count": 24,
   "metadata": {},
   "outputs": [
    {
     "data": {
      "text/html": [
       "<div>\n",
       "<style scoped>\n",
       "    .dataframe tbody tr th:only-of-type {\n",
       "        vertical-align: middle;\n",
       "    }\n",
       "\n",
       "    .dataframe tbody tr th {\n",
       "        vertical-align: top;\n",
       "    }\n",
       "\n",
       "    .dataframe thead th {\n",
       "        text-align: right;\n",
       "    }\n",
       "</style>\n",
       "<table border=\"1\" class=\"dataframe\">\n",
       "  <thead>\n",
       "    <tr style=\"text-align: right;\">\n",
       "      <th></th>\n",
       "      <th>Accuracy</th>\n",
       "      <th>Precision</th>\n",
       "      <th>Recall</th>\n",
       "      <th>F1</th>\n",
       "    </tr>\n",
       "  </thead>\n",
       "  <tbody>\n",
       "    <tr>\n",
       "      <th>Logistic Regression</th>\n",
       "      <td>99.913978</td>\n",
       "      <td>86.111111</td>\n",
       "      <td>61.386139</td>\n",
       "      <td>71.676301</td>\n",
       "    </tr>\n",
       "    <tr>\n",
       "      <th>KNN</th>\n",
       "      <td>99.933289</td>\n",
       "      <td>90.909091</td>\n",
       "      <td>69.306931</td>\n",
       "      <td>78.651685</td>\n",
       "    </tr>\n",
       "    <tr>\n",
       "      <th>Decision Tree</th>\n",
       "      <td>99.936800</td>\n",
       "      <td>86.516854</td>\n",
       "      <td>76.237624</td>\n",
       "      <td>81.052632</td>\n",
       "    </tr>\n",
       "    <tr>\n",
       "      <th>SVM</th>\n",
       "      <td>99.873600</td>\n",
       "      <td>83.720930</td>\n",
       "      <td>35.643564</td>\n",
       "      <td>50.000000</td>\n",
       "    </tr>\n",
       "    <tr>\n",
       "      <th>Random Forest</th>\n",
       "      <td>99.933289</td>\n",
       "      <td>90.909091</td>\n",
       "      <td>69.306931</td>\n",
       "      <td>78.651685</td>\n",
       "    </tr>\n",
       "    <tr>\n",
       "      <th>XGBoost</th>\n",
       "      <td>99.949089</td>\n",
       "      <td>91.860465</td>\n",
       "      <td>78.217822</td>\n",
       "      <td>84.491979</td>\n",
       "    </tr>\n",
       "  </tbody>\n",
       "</table>\n",
       "</div>"
      ],
      "text/plain": [
       "                      Accuracy  Precision     Recall         F1\n",
       "Logistic Regression  99.913978  86.111111  61.386139  71.676301\n",
       "KNN                  99.933289  90.909091  69.306931  78.651685\n",
       "Decision Tree        99.936800  86.516854  76.237624  81.052632\n",
       "SVM                  99.873600  83.720930  35.643564  50.000000\n",
       "Random Forest        99.933289  90.909091  69.306931  78.651685\n",
       "XGBoost              99.949089  91.860465  78.217822  84.491979"
      ]
     },
     "execution_count": 24,
     "metadata": {},
     "output_type": "execute_result"
    }
   ],
   "source": [
    "acc = [lr_acc, knn_acc, tree_acc, svm_acc, rf_acc, xgb_acc]\n",
    "precison = [lr_prec, knn_prec, tree_prec, svm_prec, rf_prec, xgb_prec]\n",
    "recall = [lr_rec, knn_rec, tree_rec, svm_rec, rf_rec, xgb_rec]\n",
    "f1 = [lr_f1, knn_f1, tree_f1, svm_f1, rf_f1, xgb_f1]\n",
    "\n",
    "df = pd.DataFrame(list(zip(acc, precison, recall, f1)),\n",
    "               columns = ['Accuracy', 'Precision', 'Recall', 'F1'],\n",
    "               index =['Logistic Regression', 'KNN', 'Decision Tree', 'SVM', 'Random Forest', 'XGBoost'])\n",
    "\n",
    "df"
   ]
  },
  {
   "cell_type": "code",
   "execution_count": 35,
   "metadata": {},
   "outputs": [
    {
     "data": {
      "text/plain": [
       "<matplotlib.legend.Legend at 0x26dd7ebf7f0>"
      ]
     },
     "execution_count": 35,
     "metadata": {},
     "output_type": "execute_result"
    },
    {
     "data": {
      "text/plain": [
       "<Figure size 1440x1440 with 0 Axes>"
      ]
     },
     "metadata": {},
     "output_type": "display_data"
    },
    {
     "data": {
      "image/png": "[encoded data removed]",
      "text/plain": [
       "<Figure size 432x432 with 1 Axes>"
      ]
     },
     "metadata": {
      "needs_background": "light"
     },
     "output_type": "display_data"
    }
   ],
   "source": [
    "from matplotlib.pyplot import figure\n",
    "\n",
    "figure(figsize=(12, 12), dpi=120)\n",
    "\n",
    "df.plot(kind=\"bar\")\n",
    "plt.title(\"Model Evaluation\")\n",
    "plt.xlabel(\"Percent\")\n",
    "plt.ylabel(\"Model\")\n",
    "plt.legend(bbox_to_anchor=(1.05, 0.6))"
   ]
  },
  {
   "cell_type": "markdown",
   "metadata": {},
   "source": [
    "#### Confusion Matrix"
   ]
  },
  {
   "cell_type": "code",
   "execution_count": 27,
   "metadata": {},
   "outputs": [],
   "source": [
    "# defining the plot function\n",
    "\n",
    "def plot_confusion_matrix(cm, classes, title, normalize = False, cmap = plt.cm.Blues):\n",
    "    title = 'Confusion Matrix of {}'.format(title)\n",
    "    if normalize:\n",
    "        cm = cm.astype(float) / cm.sum(axis=1)[:, np.newaxis]\n",
    "\n",
    "    plt.imshow(cm, interpolation = 'nearest', cmap = cmap)\n",
    "    plt.title(title)\n",
    "    plt.colorbar()\n",
    "    tick_marks = np.arange(len(classes))\n",
    "    plt.xticks(tick_marks, classes, rotation = 45)\n",
    "    plt.yticks(tick_marks, classes)\n",
    "\n",
    "    fmt = '.2f' if normalize else 'd'\n",
    "    thresh = cm.max() / 2.\n",
    "    for i, j in itertools.product(range(cm.shape[0]), range(cm.shape[1])):\n",
    "        plt.text(j, i, format(cm[i, j], fmt),\n",
    "                 horizontalalignment = 'center',\n",
    "                 color = 'white' if cm[i, j] > thresh else 'black')\n",
    "\n",
    "    plt.tight_layout()\n",
    "    plt.ylabel('True label')\n",
    "    plt.xlabel('Predicted label')"
   ]
  },
  {
   "cell_type": "code",
   "execution_count": 36,
   "metadata": {},
   "outputs": [
    {
     "data": {
      "image/png": "[encoded data removed]",
      "text/plain": [
       "<Figure size 432x432 with 2 Axes>"
      ]
     },
     "metadata": {
      "needs_background": "light"
     },
     "output_type": "display_data"
    },
    {
     "data": {
      "image/png": "[encoded data removed]",
      "text/plain": [
       "<Figure size 432x432 with 2 Axes>"
      ]
     },
     "metadata": {
      "needs_background": "light"
     },
     "output_type": "display_data"
    },
    {
     "data": {
      "image/png": "[encoded data removed]",
      "text/plain": [
       "<Figure size 432x432 with 2 Axes>"
      ]
     },
     "metadata": {
      "needs_background": "light"
     },
     "output_type": "display_data"
    },
    {
     "data": {
      "image/png": "[encoded data removed]",
      "text/plain": [
       "<Figure size 432x432 with 2 Axes>"
      ]
     },
     "metadata": {
      "needs_background": "light"
     },
     "output_type": "display_data"
    },
    {
     "data": {
      "image/png": "[encoded data removed]",
      "text/plain": [
       "<Figure size 432x432 with 2 Axes>"
      ]
     },
     "metadata": {
      "needs_background": "light"
     },
     "output_type": "display_data"
    },
    {
     "data": {
      "image/png": "[encoded data removed]",
      "text/plain": [
       "<Figure size 432x432 with 2 Axes>"
      ]
     },
     "metadata": {
      "needs_background": "light"
     },
     "output_type": "display_data"
    }
   ],
   "source": [
    "# Compute confusion matrix for the models\n",
    "\n",
    "lr_matrix = confusion_matrix(y_test, lr_yhat, labels = [0, 1])        # Logistic Regression\n",
    "knn_matrix = confusion_matrix(y_test, knn_yhat, labels = [0, 1])      # K-Nearest Neighbors\n",
    "tree_matrix = confusion_matrix(y_test, tree_yhat, labels = [0, 1])    # Decision Tree\n",
    "svm_matrix = confusion_matrix(y_test, svm_yhat, labels = [0, 1])      # Support Vector Machine\n",
    "rf_matrix = confusion_matrix(y_test, rf_yhat, labels = [0, 1])        # Random Forest Tree\n",
    "xgb_matrix = confusion_matrix(y_test, xgb_yhat, labels = [0, 1])      # XGBoost\n",
    "\n",
    "\n",
    "\n",
    "# Plot the confusion matrix\n",
    "\n",
    "plt.rcParams['figure.figsize'] = (6, 6)\n",
    "\n",
    "########################\n",
    "# 1. Logistic regression\n",
    "lr_cm_plot = plot_confusion_matrix(lr_matrix, \n",
    "                                classes = ['Non-Default(0)','Default(1)'], \n",
    "                                normalize = False, title = 'Logistic Regression')\n",
    "plt.show()\n",
    "\n",
    "\n",
    "########################\n",
    "# 2. K-Nearest Neighbors\n",
    "knn_cm_plot = plot_confusion_matrix(knn_matrix, \n",
    "                                classes = ['Non-Default(0)','Default(1)'], \n",
    "                                normalize = False, title = 'KNN')\n",
    "plt.show()\n",
    "\n",
    "\n",
    "########################\n",
    "# 3. Decision tree\n",
    "tree_cm_plot = plot_confusion_matrix(tree_matrix, \n",
    "                                classes = ['Non-Default(0)','Default(1)'], \n",
    "                                normalize = False, title = 'Decision Tree')\n",
    "plt.show()\n",
    "\n",
    "\n",
    "########################\n",
    "# 4. Support Vector Machine\n",
    "svm_cm_plot = plot_confusion_matrix(svm_matrix, \n",
    "                                classes = ['Non-Default(0)','Default(1)'], \n",
    "                                normalize = False, title = 'SVM')\n",
    "plt.show()\n",
    "\n",
    "\n",
    "########################\n",
    "# 5. Random forest tree\n",
    "rf_cm_plot = plot_confusion_matrix(rf_matrix, \n",
    "                                classes = ['Non-Default(0)','Default(1)'], \n",
    "                                normalize = False, title = 'Random Forest Tree')\n",
    "plt.show()\n",
    "\n",
    "\n",
    "########################\n",
    "# 6. XGBoost\n",
    "xgb_cm_plot = plot_confusion_matrix(xgb_matrix, \n",
    "                                classes = ['Non-Default(0)','Default(1)'], \n",
    "                                normalize = False, title = 'XGBoost')\n",
    "plt.show()"
   ]
  },
  {
   "cell_type": "code",
   "execution_count": null,
   "metadata": {},
   "outputs": [],
   "source": []
  },
  {
   "cell_type": "code",
   "execution_count": null,
   "metadata": {},
   "outputs": [],
   "source": []
  },
  {
   "cell_type": "code",
   "execution_count": null,
   "metadata": {},
   "outputs": [],
   "source": []
  },
  {
   "cell_type": "code",
   "execution_count": null,
   "metadata": {},
   "outputs": [],
   "source": []
  }
 ],
 "metadata": {
  "kernelspec": {
   "display_name": "Python 3",
   "language": "python",
   "name": "python3"
  },
  "language_info": {
   "codemirror_mode": {
    "name": "ipython",
    "version": 3
   },
   "file_extension": ".py",
   "mimetype": "text/x-python",
   "name": "python",
   "nbconvert_exporter": "python",
   "pygments_lexer": "ipython3",
   "version": "3.6.7"
  }
 },
 "nbformat": 4,
 "nbformat_minor": 4
}
